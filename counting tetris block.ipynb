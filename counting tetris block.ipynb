{
 "cells": [
  {
   "cell_type": "code",
   "execution_count": null,
   "metadata": {},
   "outputs": [],
   "source": [
    "import cv2\n",
    "import numpy as np\n",
    "import imutils\n",
    "\n",
    "img=cv2.imread('tetrisblock2.png')  #image file to read\n",
    "resized = cv2.resize(img, (700, 700))\n",
    "gray=cv2.cvtColor(resized,cv2.COLOR_BGR2GRAY)\n",
    "blur = cv2.GaussianBlur(resized,(5,5),0)\n",
    "\n",
    "edged=cv2.Canny(blur,0,100) #edge detection to separate the blocks from background\n",
    "kernel = np.ones((9,9),np.uint8)\n",
    "dil=cv2.dilate(edged,kernel,iterations=1)\n",
    "ret,thresh=cv2.threshold(dil,220,255,cv2.THRESH_BINARY_INV)\n",
    "\n",
    "cnts = cv2.findContours(thresh, cv2.RETR_EXTERNAL,cv2.CHAIN_APPROX_SIMPLE) #contour detection\n",
    "\n",
    "cnts = imutils.grab_contours(cnts)  #counting the blocks\n",
    "for c in cnts:\n",
    "    cv2.drawContours(resized, [c], -1, (150, 150, 150), 3)\n",
    "    \n",
    "text = \"I found {} objects!\".format(len(cnts))\n",
    "cv2.putText(resized, text, (75, 55),  cv2.FONT_HERSHEY_SIMPLEX, 0.5,(200, 200, 200), 2)\n",
    "\n",
    "cv2.imshow('ed',resized)\n",
    "cv2.imshow('f',dil)\n",
    "cv2.imshow('t',thresh)\n",
    "cv2.waitKey(0)\n",
    "cv2.destroyAllWindows()"
   ]
  }
 ],
 "metadata": {
  "kernelspec": {
   "display_name": "Python 3",
   "language": "python",
   "name": "python3"
  },
  "language_info": {
   "codemirror_mode": {
    "name": "ipython",
    "version": 3
   },
   "file_extension": ".py",
   "mimetype": "text/x-python",
   "name": "python",
   "nbconvert_exporter": "python",
   "pygments_lexer": "ipython3",
   "version": "3.7.9"
  }
 },
 "nbformat": 4,
 "nbformat_minor": 4
}
