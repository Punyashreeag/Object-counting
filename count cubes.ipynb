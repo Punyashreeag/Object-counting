{
 "cells": [
  {
   "cell_type": "code",
   "execution_count": 1,
   "metadata": {},
   "outputs": [],
   "source": [
    "#count cubes\n",
    "import cv2\n",
    "import numpy as np\n",
    "import imutils\n",
    "\n",
    "kernel = np.ones((3,3),np.uint8)\n",
    "\n",
    "img=cv2.imread('hhh.jpg')\n",
    "blur = cv2.bilateralFilter(img,9,75,75)\n",
    "blur2=cv2.bilateralFilter(blur,9,75,75)\n",
    "\n",
    "\n",
    "gray=cv2.cvtColor(blur2,cv2.COLOR_BGR2GRAY)\n",
    "ret2,thresh2=cv2.threshold(gray,160,255,cv2.THRESH_BINARY_INV)\n",
    "\n",
    "\n",
    "erosion=cv2.erode(thresh2,kernel,iterations=2)\n",
    "\n",
    "cnts = cv2.findContours(erosion, cv2.RETR_EXTERNAL,cv2.CHAIN_APPROX_SIMPLE)\n",
    "\n",
    "cnts = imutils.grab_contours(cnts)\n",
    "for c in cnts:\n",
    "    cv2.drawContours(img, [c], -1, (200, 200, 0), 3)\n",
    "    \n",
    "text = \"I found {} objects!\".format(len(cnts))\n",
    "cv2.putText(img, text, (5, 25),  cv2.FONT_HERSHEY_SIMPLEX, 0.5,(200, 200, 0), 2)\n",
    "\n",
    "\n",
    "\n",
    "cv2.imshow('p',img)\n",
    "cv2.waitKey(0)\n",
    "cv2.destroyAllWindows()"
   ]
  },
  {
   "cell_type": "code",
   "execution_count": null,
   "metadata": {},
   "outputs": [],
   "source": []
  }
 ],
 "metadata": {
  "kernelspec": {
   "display_name": "Python 3",
   "language": "python",
   "name": "python3"
  },
  "language_info": {
   "codemirror_mode": {
    "name": "ipython",
    "version": 3
   },
   "file_extension": ".py",
   "mimetype": "text/x-python",
   "name": "python",
   "nbconvert_exporter": "python",
   "pygments_lexer": "ipython3",
   "version": "3.7.9"
  }
 },
 "nbformat": 4,
 "nbformat_minor": 4
}
