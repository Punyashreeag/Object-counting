{
 "cells": [
  {
   "cell_type": "code",
   "execution_count": 4,
   "metadata": {},
   "outputs": [],
   "source": [
    "#thresholding the images to separate backgroung and foreground\n",
    "import cv2\n",
    "import numpy as np\n",
    "img=cv2.imread('pappad.jpg')\n",
    "img=cv2.resize(img,(500,500))\n",
    "gray=cv2.cvtColor(img,cv2.COLOR_BGR2GRAY)\n",
    "ret,thresh=cv2.threshold(gray,70,255,cv2.THRESH_BINARY)\n",
    "equ=cv2.equalizeHist(gray)\n",
    "\n",
    "cv2.imshow('img',img)\n",
    "cv2.imshow('wb',equ)\n",
    "cv2.waitKey(0)\n",
    "cv2.destroyAllWindows()"
   ]
  },
  {
   "cell_type": "code",
   "execution_count": 54,
   "metadata": {},
   "outputs": [],
   "source": [
    "import cv2\n",
    "import numpy as np\n",
    "kernel=np.ones((2,2),np.uint8)\n",
    "img=cv2.imread('pappad.jpg')\n",
    "img=cv2.resize(img,(500,500))\n",
    "gray=cv2.cvtColor(img,cv2.COLOR_BGR2GRAY)\n",
    "equ=cv2.equalizeHist(gray)\n",
    "ret,thresh=cv2.threshold(equ,75,255,cv2.THRESH_BINARY)\n",
    "erosion=cv2.erode(thresh,kernel,iterations=1)\n",
    "\n",
    "cv2.imshow('img',img)\n",
    "cv2.imshow('wb',thresh)\n",
    "cv2.waitKey(0)\n",
    "cv2.destroyAllWindows()"
   ]
  },
  {
   "cell_type": "code",
   "execution_count": 57,
   "metadata": {},
   "outputs": [],
   "source": [
    "import cv2\n",
    "import numpy as np\n",
    "\n",
    "\n",
    "img=cv2.imread('pappad.jpg')\n",
    "img=cv2.resize(img,(500,500))\n",
    "gray=cv2.cvtColor(img,cv2.COLOR_BGR2GRAY)\n",
    "equ=cv2.equalizeHist(gray)\n",
    "ret,thresh=cv2.threshold(equ,75,255,cv2.THRESH_BINARY)\n",
    "\n",
    "th2 = cv2.adaptiveThreshold(equ,255,cv2.ADAPTIVE_THRESH_MEAN_C,\\\n",
    "            cv2.THRESH_BINARY,11,2)\n",
    "th3 = cv2.adaptiveThreshold(equ,255,cv2.ADAPTIVE_THRESH_GAUSSIAN_C,\\\n",
    "            cv2.THRESH_BINARY,11,2)\n",
    "\n",
    "cv2.imshow('img',img)\n",
    "cv2.imshow('wb',thresh)\n",
    "cv2.imshow('aa',th2)\n",
    "cv2.imshow('kk',th3)\n",
    "cv2.waitKey(0)\n",
    "cv2.destroyAllWindows()"
   ]
  },
  {
   "cell_type": "code",
   "execution_count": 1,
   "metadata": {},
   "outputs": [],
   "source": [
    "import cv2\n",
    "import numpy as np\n",
    "\n",
    "img=cv2.imread('pappad.jpg')\n",
    "img=cv2.resize(img,(500,500))\n",
    "\n",
    "gray=cv2.cvtColor(img,cv2.COLOR_BGR2GRAY)\n",
    "\n",
    "equ=cv2.equalizeHist(gray)\n",
    "\n",
    "kernel=np.ones((2,2),np.uint8)\n",
    "\n",
    "ret1,th1 = cv2.threshold(equ,88,255,cv2.THRESH_BINARY_INV)\n",
    "\n",
    "erosion=cv2.erode(th1,kernel,iterations=1)\n",
    "\n",
    "cv2.imshow('img',img)\n",
    "cv2.imshow('wb',th1)\n",
    "cv2.imshow('aa',erosion)\n",
    "\n",
    "cv2.waitKey(0)\n",
    "cv2.destroyAllWindows()"
   ]
  },
  {
   "cell_type": "code",
   "execution_count": 105,
   "metadata": {},
   "outputs": [
    {
     "name": "stdout",
     "output_type": "stream",
     "text": [
      "[[[ 17 255 208]]]\n"
     ]
    }
   ],
   "source": [
    "#hsv values for extracting brown coloured objects\n",
    "import cv2\n",
    "import numpy as np\n",
    "\n",
    "brown=np.uint8([[[0,118,208]]])\n",
    "hsv_brown=cv2.cvtColor(green,cv2.COLOR_BGR2HSV)\n",
    "print(hsv_green)"
   ]
  },
  {
   "cell_type": "code",
   "execution_count": 3,
   "metadata": {},
   "outputs": [],
   "source": [
    "import cv2\n",
    "import numpy as np\n",
    "import imutils\n",
    "\n",
    "\n",
    "img=cv2.imread('pappad.jpg') #reading image\n",
    "img=cv2.resize(img,(500,500))\n",
    "hsv=cv2.cvtColor(img,cv2.COLOR_BGR2HSV)\n",
    "lower=np.array([1,40,50])\n",
    "upper=np.array([40,255,220])\n",
    "mask=cv2.inRange(hsv,lower,upper)\n",
    "res=cv2.bitwise_or(img,img,mask=mask)#masking the brown coloured objects\n",
    "\n",
    "gray=cv2.cvtColor(res,cv2.COLOR_BGR2GRAY)\n",
    "ret,thresh=cv2.threshold(gray,10,255,cv2.THRESH_BINARY)\n",
    "\n",
    "cnts = cv2.findContours(thresh, cv2.RETR_EXTERNAL,cv2.CHAIN_APPROX_SIMPLE) #getting contours\n",
    "\n",
    "cnts = imutils.grab_contours(cnts)\n",
    "count=0\n",
    "for c in cnts:\n",
    "    cv2.drawContours(img, [c], -1, (10, 200, 150), 3)\n",
    "    \n",
    "    count=count+1\n",
    "text=str(count)   \n",
    "cv2.putText(img,text,(30,30),cv2.FONT_HERSHEY_SIMPLEX,1,(0,100,100),3)\n",
    "cv2.imshow('img',img)\n",
    "cv2.imshow('gray',thresh)\n",
    "cv2.imshow('pappad',res)\n",
    "cv2.waitKey(0)\n",
    "cv2.destroyAllWindows()\n",
    "\n"
   ]
  },
  {
   "cell_type": "code",
   "execution_count": null,
   "metadata": {},
   "outputs": [],
   "source": []
  },
  {
   "cell_type": "code",
   "execution_count": null,
   "metadata": {},
   "outputs": [],
   "source": []
  }
 ],
 "metadata": {
  "kernelspec": {
   "display_name": "Python 3",
   "language": "python",
   "name": "python3"
  },
  "language_info": {
   "codemirror_mode": {
    "name": "ipython",
    "version": 3
   },
   "file_extension": ".py",
   "mimetype": "text/x-python",
   "name": "python",
   "nbconvert_exporter": "python",
   "pygments_lexer": "ipython3",
   "version": "3.7.9"
  }
 },
 "nbformat": 4,
 "nbformat_minor": 4
}
